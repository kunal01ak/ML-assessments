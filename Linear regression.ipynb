{
 "cells": [
  {
   "cell_type": "code",
   "execution_count": null,
   "metadata": {},
   "outputs": [],
   "source": [
    "import numpy as np\n",
    "import pandas as pd\n",
    "import matplotlib.pyplot as plt\n",
    "\n",
    "def linear_regression(x_train, y_train):\n",
    "    # Add bias term to features\n",
    "    X = np.column_stack((np.ones(len(x_train)), x_train))\n",
    "    \n",
    "    # Calculate weights using the normal equation\n",
    "    weights = np.linalg.inv(X.T @ X) @ X.T @ y_train\n",
    "    \n",
    "    return weights\n",
    "\n",
    "\n",
    "# Example usage of the implemented Linear Regression algorithm\n",
    "# Assuming x_train and y_train are the feature and target arrays for training\n",
    "\n",
    "# Fit the linear regression model\n",
    "weights = linear_regression(x_train, y_train)\n",
    "\n",
    "# Predict using the trained model\n",
    "y_pred = np.column_stack((np.ones(len(x_test)), x_test)) @ weights"
   ]
  }
 ],
 "metadata": {
  "language_info": {
   "name": "python"
  },
  "orig_nbformat": 4
 },
 "nbformat": 4,
 "nbformat_minor": 2
}
